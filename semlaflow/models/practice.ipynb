{
 "cells": [
  {
   "cell_type": "code",
   "execution_count": 1,
   "id": "f2692e73-e0a0-4fe7-b10a-aea07c3360b5",
   "metadata": {},
   "outputs": [],
   "source": [
    "import torch"
   ]
  },
  {
   "cell_type": "code",
   "execution_count": 16,
   "id": "8bb1ad21-ebb4-4291-b86a-54d4ffc8a598",
   "metadata": {},
   "outputs": [],
   "source": [
    "a = torch.tensor([[[1.0,2.0],[4.0,5.0],[5.0,6.0]],[[1.0,2.0],[4.0,5.0],[5.0,6.0]]])\n",
    "b = torch.tensor([[1,10],[100,1000]])"
   ]
  },
  {
   "cell_type": "code",
   "execution_count": 9,
   "id": "74095c53-5eaf-4ae1-a343-cd4620d062a5",
   "metadata": {},
   "outputs": [
    {
     "data": {
      "text/plain": [
       "tensor([[[-0.4281,  0.1335, -0.3052],\n",
       "         [-2.8558,  1.5691, -0.9977],\n",
       "         [-3.6650,  2.0476, -1.2286]],\n",
       "\n",
       "        [[-0.4281,  0.1335, -0.3052],\n",
       "         [-2.8558,  1.5691, -0.9977],\n",
       "         [-3.6650,  2.0476, -1.2286]]], grad_fn=<ViewBackward0>)"
      ]
     },
     "execution_count": 9,
     "metadata": {},
     "output_type": "execute_result"
    }
   ],
   "source": [
    "m = torch.nn.Linear(2,3)\n",
    "m(a)"
   ]
  },
  {
   "cell_type": "code",
   "execution_count": 17,
   "id": "7bacdbbe-5200-4d8a-8fa4-e1d74fb13c0e",
   "metadata": {},
   "outputs": [
    {
     "data": {
      "text/plain": [
       "tensor([[[1., 2.],\n",
       "         [4., 5.],\n",
       "         [5., 6.],\n",
       "         [1., 2.],\n",
       "         [4., 5.],\n",
       "         [5., 6.]],\n",
       "\n",
       "        [[1., 2.],\n",
       "         [4., 5.],\n",
       "         [5., 6.],\n",
       "         [1., 2.],\n",
       "         [4., 5.],\n",
       "         [5., 6.]]])"
      ]
     },
     "execution_count": 17,
     "metadata": {},
     "output_type": "execute_result"
    }
   ],
   "source": [
    "torch.concat([a,a],dim=1)"
   ]
  },
  {
   "cell_type": "code",
   "execution_count": 14,
   "id": "28b21101-6dc0-4313-9784-f37b6da68b97",
   "metadata": {},
   "outputs": [
    {
     "data": {
      "text/plain": [
       "torch.Size([2, 3])"
      ]
     },
     "execution_count": 14,
     "metadata": {},
     "output_type": "execute_result"
    }
   ],
   "source": [
    "a.shape"
   ]
  },
  {
   "cell_type": "code",
   "execution_count": 12,
   "id": "30ebcb2e-d910-4188-bd39-c716721f79ed",
   "metadata": {},
   "outputs": [],
   "source": [
    "a = torch.tensor([[[1,2],[3,4]],[[5,6],[7,8]]])"
   ]
  },
  {
   "cell_type": "code",
   "execution_count": 15,
   "id": "5f3e3ec3-7d3d-4110-bd6b-d4e7363391be",
   "metadata": {},
   "outputs": [],
   "source": [
    "def adj_to_attn_mask(adj_matrix, pos_inf=False):\n",
    "    \"\"\"Assumes adj_matrix is only 0s and 1s\"\"\"\n",
    "\n",
    "    inf = float(\"inf\") if pos_inf else float(\"-inf\")\n",
    "    attn_mask = torch.zeros_like(adj_matrix.float())\n",
    "    attn_mask[adj_matrix == 0] = inf\n",
    "\n",
    "    # Ensure nodes with no connections (fake nodes) don't have all -inf in the attn mask\n",
    "    # Otherwise we would have problems when softmaxing\n",
    "    n_nodes = adj_matrix.sum(dim=-1)\n",
    "    attn_mask[n_nodes == 0] = 0.0\n",
    "\n",
    "    return attn_mask"
   ]
  },
  {
   "cell_type": "code",
   "execution_count": 16,
   "id": "0180d2e1-3e9a-4127-a2a9-ed218dab9741",
   "metadata": {},
   "outputs": [
    {
     "data": {
      "text/plain": [
       "tensor([[0., -inf],\n",
       "        [-inf, 0.]])"
      ]
     },
     "execution_count": 16,
     "metadata": {},
     "output_type": "execute_result"
    }
   ],
   "source": [
    "mat=torch.tensor([[1,0],[0,1]])\n",
    "adj_to_attn_mask(mat)"
   ]
  },
  {
   "cell_type": "code",
   "execution_count": 9,
   "id": "bd1adf38-acb0-4665-a43d-aaac61d5e9fd",
   "metadata": {},
   "outputs": [
    {
     "ename": "TypeError",
     "evalue": "diag() got an unexpected keyword argument 'dim'",
     "output_type": "error",
     "traceback": [
      "\u001b[0;31m---------------------------------------------------------------------------\u001b[0m",
      "\u001b[0;31mTypeError\u001b[0m                                 Traceback (most recent call last)",
      "Cell \u001b[0;32mIn[9], line 1\u001b[0m\n\u001b[0;32m----> 1\u001b[0m torch\u001b[38;5;241m.\u001b[39mdiag(a,dim\u001b[38;5;241m=\u001b[39m\u001b[38;5;241m1\u001b[39m)\n",
      "\u001b[0;31mTypeError\u001b[0m: diag() got an unexpected keyword argument 'dim'"
     ]
    }
   ],
   "source": [
    "torch.diag(a,dim=1)"
   ]
  },
  {
   "cell_type": "code",
   "execution_count": 30,
   "id": "4346c897-58d7-499b-a1f1-90ecd092d76e",
   "metadata": {},
   "outputs": [
    {
     "data": {
      "text/plain": [
       "tensor([[1, 7],\n",
       "        [2, 8]])"
      ]
     },
     "execution_count": 30,
     "metadata": {},
     "output_type": "execute_result"
    }
   ],
   "source": [
    "x = torch.randn(2, 5, 4, 2)\n",
    "(torch.diagonal(a, offset=0, dim1=1, dim2=2)).shape\n",
    "torch.diagonal(a, offset=0, dim1=1, dim2=0)"
   ]
  },
  {
   "cell_type": "code",
   "execution_count": 34,
   "id": "41deff3e-c5a7-4ce8-9623-1c5d2d84d647",
   "metadata": {},
   "outputs": [
    {
     "name": "stdout",
     "output_type": "stream",
     "text": [
      "torch.Size([3, 1])\n",
      "torch.Size([3, 2])\n",
      "torch.Size([3, 2])\n",
      "tensor([[  1,   2],\n",
      "        [ 30,  40],\n",
      "        [500, 600]])\n"
     ]
    }
   ],
   "source": [
    "a = torch.tensor([1,10,100]).unsqueeze(-1)\n",
    "b = torch.tensor([[1,2],[3,4],[5,6]])\n",
    "print(a.shape)\n",
    "print(b.shape)\n",
    "print((a*b).shape)\n",
    "print(a*b)"
   ]
  },
  {
   "cell_type": "code",
   "execution_count": null,
   "id": "b74a29f0-c91c-4bb3-8de0-92e422cc9ed5",
   "metadata": {},
   "outputs": [],
   "source": []
  }
 ],
 "metadata": {
  "kernelspec": {
   "display_name": "Python 3 (ipykernel)",
   "language": "python",
   "name": "python3"
  },
  "language_info": {
   "codemirror_mode": {
    "name": "ipython",
    "version": 3
   },
   "file_extension": ".py",
   "mimetype": "text/x-python",
   "name": "python",
   "nbconvert_exporter": "python",
   "pygments_lexer": "ipython3",
   "version": "3.12.7"
  }
 },
 "nbformat": 4,
 "nbformat_minor": 5
}
