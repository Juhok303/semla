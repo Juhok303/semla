{
 "cells": [
  {
   "cell_type": "code",
   "execution_count": null,
   "id": "46f35813-3e09-4b16-9e7b-4e07b3987556",
   "metadata": {},
   "outputs": [],
   "source": []
  }
 ],
 "metadata": {
  "kernelspec": {
   "display_name": "",
   "name": ""
  },
  "language_info": {
   "name": ""
  }
 },
 "nbformat": 4,
 "nbformat_minor": 5
}
