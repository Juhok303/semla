{
 "cells": [
  {
   "cell_type": "code",
   "execution_count": null,
   "id": "731eddb3-93aa-423b-97c7-8fad3caf5602",
   "metadata": {},
   "outputs": [],
   "source": []
  }
 ],
 "metadata": {
  "kernelspec": {
   "display_name": "",
   "name": ""
  },
  "language_info": {
   "name": ""
  }
 },
 "nbformat": 4,
 "nbformat_minor": 5
}
