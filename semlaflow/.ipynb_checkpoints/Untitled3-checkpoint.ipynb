{
 "cells": [
  {
   "cell_type": "code",
   "execution_count": 2,
   "id": "47e65113-fc19-4758-a58d-7b6fc7285bd7",
   "metadata": {},
   "outputs": [
    {
     "ename": "ModuleNotFoundError",
     "evalue": "No module named 'torch.torchvision'",
     "output_type": "error",
     "traceback": [
      "\u001b[0;31m---------------------------------------------------------------------------\u001b[0m",
      "\u001b[0;31mModuleNotFoundError\u001b[0m                       Traceback (most recent call last)",
      "Cell \u001b[0;32mIn[2], line 1\u001b[0m\n\u001b[0;32m----> 1\u001b[0m \u001b[38;5;28;01mimport\u001b[39;00m\u001b[38;5;250m \u001b[39m\u001b[38;5;21;01mtorch\u001b[39;00m\u001b[38;5;21;01m.\u001b[39;00m\u001b[38;5;21;01mtorchvision\u001b[39;00m\n\u001b[1;32m      2\u001b[0m \u001b[38;5;28;01mimport\u001b[39;00m\u001b[38;5;250m \u001b[39m\u001b[38;5;21;01mtorchvision\u001b[39;00m\n",
      "\u001b[0;31mModuleNotFoundError\u001b[0m: No module named 'torch.torchvision'"
     ]
    }
   ],
   "source": [
    "import torch.torchvision\n",
    "import torchvision"
   ]
  },
  {
   "cell_type": "code",
   "execution_count": 2,
   "id": "7fd7f864-22c7-4c17-a7b8-fa10293d45a6",
   "metadata": {},
   "outputs": [
    {
     "ename": "ModuleNotFoundError",
     "evalue": "No module named 'pytorch3d'",
     "output_type": "error",
     "traceback": [
      "\u001b[0;31m---------------------------------------------------------------------------\u001b[0m",
      "\u001b[0;31mModuleNotFoundError\u001b[0m                       Traceback (most recent call last)",
      "Cell \u001b[0;32mIn[2], line 1\u001b[0m\n\u001b[0;32m----> 1\u001b[0m \u001b[38;5;28;01mfrom\u001b[39;00m\u001b[38;5;250m \u001b[39m\u001b[38;5;21;01mpytorch3d\u001b[39;00m\u001b[38;5;21;01m.\u001b[39;00m\u001b[38;5;21;01mtransformation\u001b[39;00m\u001b[38;5;250m \u001b[39m\u001b[38;5;28;01mimport\u001b[39;00m random_rotations\n",
      "\u001b[0;31mModuleNotFoundError\u001b[0m: No module named 'pytorch3d'"
     ]
    }
   ],
   "source": [
    "from pytorch3d.transformation import random_rotations"
   ]
  },
  {
   "cell_type": "code",
   "execution_count": 3,
   "id": "fe1d08fd-692f-4458-a6bf-5f02fb8c49d6",
   "metadata": {},
   "outputs": [
    {
     "ename": "ModuleNotFoundError",
     "evalue": "No module named 'torchvision'",
     "output_type": "error",
     "traceback": [
      "\u001b[0;31m---------------------------------------------------------------------------\u001b[0m",
      "\u001b[0;31mModuleNotFoundError\u001b[0m                       Traceback (most recent call last)",
      "Cell \u001b[0;32mIn[3], line 1\u001b[0m\n\u001b[0;32m----> 1\u001b[0m \u001b[38;5;28;01mimport\u001b[39;00m\u001b[38;5;250m \u001b[39m\u001b[38;5;21;01mtorchvision\u001b[39;00m\n",
      "\u001b[0;31mModuleNotFoundError\u001b[0m: No module named 'torchvision'"
     ]
    }
   ],
   "source": [
    "import torchvision"
   ]
  },
  {
   "cell_type": "code",
   "execution_count": 4,
   "id": "f8d10871-4b55-4e05-88e0-34d501ef0791",
   "metadata": {},
   "outputs": [
    {
     "name": "stdout",
     "output_type": "stream",
     "text": [
      "\n",
      "Please wait a moment while I gather a list of all available modules...\n",
      "\n"
     ]
    },
    {
     "name": "stderr",
     "output_type": "stream",
     "text": [
      "/home/juhok/yes/lib/python3.12/site-packages/nltk/twitter/__init__.py:20: UserWarning:\n",
      "\n",
      "The twython library has not been installed. Some functionality from the twitter package will not be available.\n",
      "\n",
      "/home/juhok/yes/lib/python3.12/pkgutil.py:78: UserWarning:\n",
      "\n",
      "The numpy.array_api submodule is still experimental. See NEP 47.\n",
      "\n",
      "/home/juhok/yes/lib/python3.12/site-packages/pydantic/experimental/__init__.py:7: PydanticExperimentalWarning:\n",
      "\n",
      "This module is experimental, its contents are subject to change and deprecation.\n",
      "\n",
      "/home/juhok/yes/lib/python3.12/pkgutil.py:78: DeprecationWarning:\n",
      "\n",
      "`torch.distributed._shard.checkpoint` will be deprecated, use `torch.distributed.checkpoint` instead\n",
      "\n",
      "/home/juhok/yes/lib/python3.12/pkgutil.py:78: DeprecationWarning:\n",
      "\n",
      "`torch.distributed._sharded_tensor` will be deprecated, use `torch.distributed._shard.sharded_tensor` instead\n",
      "\n",
      "/home/juhok/yes/lib/python3.12/pkgutil.py:78: DeprecationWarning:\n",
      "\n",
      "`torch.distributed._sharding_spec` will be deprecated, use `torch.distributed._shard.sharding_spec` instead\n",
      "\n",
      "/home/juhok/yes/lib/python3.12/site-packages/zmq/tests/__init__.py:35: DeprecationWarning:\n",
      "\n",
      "zmq.tests is deprecated in pyzmq 25, we recommend managing your own contexts and sockets.\n",
      "\n",
      "/home/juhok/yes/lib/python3.12/site-packages/torch/cuda/__init__.py:287: UserWarning: \n",
      "NVIDIA GeForce RTX 5090 with CUDA capability sm_120 is not compatible with the current PyTorch installation.\n",
      "The current PyTorch install supports CUDA capabilities sm_50 sm_60 sm_70 sm_75 sm_80 sm_86 sm_90.\n",
      "If you want to use the NVIDIA GeForce RTX 5090 GPU with PyTorch, please check the instructions at https://pytorch.org/get-started/locally/\n",
      "\n",
      "  warnings.warn(\n"
     ]
    },
    {
     "name": "stdout",
     "output_type": "stream",
     "text": [
      "3204bda914b7f2c6f497__mypyc cgitb               keyword             rfc3986_validator\n",
      "IPython             chardet             kiwisolver          rich\n",
      "OpenSSL             charset_normalizer  lazy_loader         rlcompleter\n",
      "PIL                 chunk               lazy_object_proxy   roman_numerals\n",
      "PyQt5               click               lckr_jupyterlab_variableinspector rope\n",
      "__future__          cloudpickle         lib2to3             rpds\n",
      "__hello__           cmath               libarchive          rtree\n",
      "__phello__          cmd                 libmambapy          ruamel_yaml\n",
      "_abc                code                lief                runpy\n",
      "_aix_support        codecs              linecache           s3fs\n",
      "_argon2_cffi_bindings codeop              linkify_it          sched\n",
      "_ast                collections         llvmlite            scipy\n",
      "_asyncio            colorama            lmdb                scrapy\n",
      "_bisect             colorcet            locale              seaborn\n",
      "_black_version      colorsys            locket              secrets\n",
      "_blake2             comm                logging             secretstorage\n",
      "_brotli             compileall          lxml                select\n",
      "_bz2                concurrent          lz4                 selectors\n",
      "_cffi_backend       conda               lzma                semla\n",
      "_codecs             conda_build         mailbox             semla1\n",
      "_codecs_cn          conda_content_trust mailcap             semla11\n",
      "_codecs_hk          conda_env           markdown            semver\n",
      "_codecs_iso2022     conda_index         markdown_it         send2trash\n",
      "_codecs_jp          conda_libmamba_solver markupsafe          service_identity\n",
      "_codecs_kr          conda_pack          marshal             setuptools\n",
      "_codecs_tw          conda_package_handling math                shellingham\n",
      "_collections        conda_package_streaming matplotlib          shelve\n",
      "_collections_abc    conda_token         matplotlib_inline   shlex\n",
      "_compat_pickle      configparser        mccabe              shutil\n",
      "_compression        constantly          mdit_py_plugins     signal\n",
      "_contextvars        contextlib          mdurl               sipbuild\n",
      "_crypt              contextvars         menuinst            site\n",
      "_csv                contourpy           mimetypes           six\n",
      "_ctypes             cookiecutter        mistune             skimage\n",
      "_ctypes_test        copy                mkl                 sklearn\n",
      "_curses             copyreg             mkl_fft             sklearn_compat\n",
      "_curses_panel       cpuinfo             mkl_random          slugify\n",
      "_datetime           crypt               mmap                smart_open\n",
      "_decimal            cryptography        modulefinder        smmap\n",
      "_distutils_hack     cssselect           more_itertools      smtplib\n",
      "_elementtree        csv                 mpmath              sndhdr\n",
      "_functools          ctypes              msgpack             sniffio\n",
      "_hashlib            curl                multidict           snowballstemmer\n",
      "_heapq              curses              multipledispatch    socket\n",
      "_imp                cycler              multiprocessing     socketserver\n",
      "_io                 cytoolz             mypy                socks\n",
      "_json               dask                mypy_extensions     sockshandler\n",
      "_locale             dask_expr           mypyc               sortedcontainers\n",
      "_lsprof             dataclasses         nacl                soupsieve\n",
      "_lzma               datashader          narwhals            sphinx\n",
      "_markupbase         datetime            navigator_updater   spwd\n",
      "_md5                dateutil            nbclient            spyder\n",
      "_multibytecodec     dbm                 nbconvert           spyder_kernels\n",
      "_multiprocessing    debugpy             nbformat            sqlalchemy\n",
      "_opcode             decimal             nest_asyncio        sqlite3\n",
      "_operator           decorator           netrc               sre_compile\n",
      "_osx_support        defusedxml          networkx            sre_constants\n",
      "_pickle             deprecated          nis                 sre_parse\n",
      "_plotly_utils       diff_match_patch    nltk                ssl\n",
      "_posixshmem         difflib             nntplib             stack_data\n",
      "_posixsubprocess    dill                notebook            stat\n",
      "_py_abc             dis                 notebook_shim       statistics\n",
      "_pydatetime         distributed         ntpath              statsmodels\n",
      "_pydecimal          distro              nturl2path          streamlit\n",
      "_pyio               docstring_to_markdown numba               string\n",
      "_pylong             doctest             numbergen           stringprep\n",
      "_pytest             docutils            numbers             struct\n",
      "_queue              dotenv              numexpr             subprocess\n",
      "_random             egnn                numpy               sunau\n",
      "_remote_module_non_scriptable email               numpydoc            superqt\n",
      "_ruamel_yaml        encodings           nvidia              sympy\n",
      "_sha1               ensurepip           opcode              symtable\n",
      "_sha2               enum                openpyxl            sys\n",
      "_sha3               eqgat               operator            sysconfig\n",
      "_signal             erfa                optparse            syslog\n",
      "_sitebuiltins       errno               os                  tables\n",
      "_socket             et_xmlfile          ossaudiodev         tabnanny\n",
      "_sqlite3            evalidate           overrides           tabulate\n",
      "_sre                executing           packaging           tarfile\n",
      "_ssl                fastjsonschema      pandas              tblib\n",
      "_stat               faulthandler        pandocfilters       telnetlib\n",
      "_statistics         fcntl               panel               tempfile\n",
      "_string             filecmp             param               tenacity\n",
      "_strptime           fileinput           parsel              terminado\n",
      "_struct             filelock            parso               termios\n",
      "_symtable           flake8              partd               test\n",
      "_sysconfigdata__linux_x86_64-linux-gnu flask               pathlib             test_pycosat\n",
      "_sysconfigdata_x86_64_conda_cos6_linux_gnu fm                  pathspec            text_unidecode\n",
      "_sysconfigdata_x86_64_conda_linux_gnu fnmatch             patsy               textdistance\n",
      "_testbuffer         fontTools           pdb                 textwrap\n",
      "_testcapi           fractions           pexpect             this\n",
      "_testclinic         frozendict          pickle              threading\n",
      "_testimportmultiple frozenlist          pickleshare         threadpoolctl\n",
      "_testinternalcapi   fsspec              pickletools         three_merge\n",
      "_testmultiphase     ftplib              pip                 tifffile\n",
      "_testsinglephase    functools           pipes               time\n",
      "_thread             functorch           pkce                timeit\n",
      "_threading_local    gc                  pkg_resources       tinycss2\n",
      "_tkinter            genericpath         pkginfo             tkinter\n",
      "_tokenize           gensim              pkgutil             tldextract\n",
      "_tracemalloc        getopt              platform            tlz\n",
      "_typing             getpass             platformdirs        token\n",
      "_uuid               gettext             plistlib            tokenize\n",
      "_warnings           git                 plotly              toml\n",
      "_weakref            gitdb               pluggy              tomli\n",
      "_weakrefset         github              ply                 tomlkit\n",
      "_xxinterpchannels   glob                poplib              tomllib\n",
      "_xxsubinterpreters  gmpy2               posix               toolz\n",
      "_xxtestfuzz         graphlib            posixpath           torch\n",
      "_yaml               greenlet            pprint              torchgen\n",
      "_zoneinfo           grp                 profile             tornado\n",
      "abc                 gzip                prometheus_client   tqdm\n",
      "aifc                h11                 prompt_toolkit      trace\n",
      "aiobotocore         h5py                propcache           traceback\n",
      "aiohappyeyeballs    hashlib             protego             tracemalloc\n",
      "aiohttp             heapdict            pstats              traitlets\n",
      "aioitertools        heapq               psutil              triton\n",
      "aiosignal           hmac                pty                 truststore\n",
      "alabaster           holoviews           ptyprocess          tty\n",
      "altair              html                pure_eval           turtle\n",
      "anaconda_anon_usage http                pwd                 turtledemo\n",
      "anaconda_auth       httpcore            py                  twisted\n",
      "anaconda_catalogs   httpx               py_compile          typeguard\n",
      "anaconda_cli_base   hvplot              pyarrow             typer\n",
      "anaconda_cloud_auth hyperlink           pyasn1              types\n",
      "anaconda_navigator  idlelib             pyasn1_modules      typing\n",
      "anaconda_project    idna                pyclbr              typing_extensions\n",
      "annotated_types     imagecodecs         pycodestyle         tzdata\n",
      "antigravity         imageio             pycosat             uc_micro\n",
      "anyio               imagesize           pycparser           ujson\n",
      "appdirs             imaplib             pyct                unicodedata\n",
      "archspec            imblearn            pycurl              unicodedata2\n",
      "argon2              imghdr              pydantic            unidecode\n",
      "argparse            importlib           pydantic_core       unittest\n",
      "array               importlib_metadata  pydantic_settings   urllib\n",
      "arrow               incremental         pydeck              urllib3\n",
      "ast                 inflect             pydispatch          uu\n",
      "astroid             inflection          pydoc               uuid\n",
      "astropy             iniconfig           pydoc_data          venv\n",
      "astropy_iers_data   inspect             pydocstyle          w3lib\n",
      "asttokens           intake              pyexpat             warnings\n",
      "async_lru           intervaltree        pyflakes            watchdog\n",
      "asyncio             io                  pygments            wave\n",
      "asyncssh            ipaddress           pylab               wcwidth\n",
      "atexit              ipykernel           pylint              weakref\n",
      "atomicwrites        ipykernel_launcher  pylint_venv         webbrowser\n",
      "attr                ipython_genutils    pyls_spyder         webencodings\n",
      "attrs               ipywidgets          pylsp               websocket\n",
      "audioop             isort               pylsp_black         werkzeug\n",
      "autocommand         isympy              pylsp_jsonrpc       whatthepatch\n",
      "automat             itemadapter         pyodbc              wheel\n",
      "autopep8            itemloaders         pyparsing           widgetsnbextension\n",
      "babel               itertools           pytest              wrapt\n",
      "backports           itsdangerous        pythonjsonlogger    wsgiref\n",
      "base64              jedi                pytoolconfig        wurlitzer\n",
      "bcrypt              jeepney             pytz                xarray\n",
      "bdb                 jellyfish           pyuca               xdg\n",
      "binaryornot         jinja2              pyviz_comms         xdrlib\n",
      "binascii            jmespath            pywt                xml\n",
      "binstar_client      joblib              qdarkstyle          xmlrpc\n",
      "bisect              json                qstylizer           xxlimited\n",
      "black               json5               qtawesome           xxlimited_35\n",
      "blackd              jsonpatch           qtconsole           xxsubtype\n",
      "bleach              jsonpointer         qtpy                xyzservices\n",
      "blib2to3            jsonschema          queue               yaml\n",
      "blinker             jsonschema_specifications queuelib            yapf\n",
      "bokeh               jupyter             quopri              yapf_third_party\n",
      "boltons             jupyter_client      random              yapftests\n",
      "botocore            jupyter_console     re                  yarl\n",
      "bottleneck          jupyter_core        readchar            zict\n",
      "brotli              jupyter_events      readline            zipapp\n",
      "bs4                 jupyter_lsp         referencing         zipfile\n",
      "builtins            jupyter_server      regex               zipimport\n",
      "bz2                 jupyter_server_terminals repo_cli            zipp\n",
      "cProfile            jupyterlab          reprlib             zlib\n",
      "cachetools          jupyterlab_pygments requests            zmq\n",
      "calendar            jupyterlab_server   requests_file       zoneinfo\n",
      "certifi             jupyterlab_widgets  requests_toolbelt   zope\n",
      "cffi                jwt                 resource            zstandard\n",
      "cgi                 keyring             rfc3339_validator   \n",
      "\n",
      "Enter any module name to get more help.  Or, type \"modules spam\" to search\n",
      "for modules whose name or summary contain the string \"spam\".\n",
      "\n"
     ]
    }
   ],
   "source": [
    "help('modules')"
   ]
  },
  {
   "cell_type": "code",
   "execution_count": 4,
   "id": "66b45d9f-4fe6-476a-8ae8-92d7eb30f428",
   "metadata": {},
   "outputs": [],
   "source": [
    "from torch.utils.data import Dataset"
   ]
  },
  {
   "cell_type": "code",
   "execution_count": 5,
   "id": "58f5018c-806d-4285-a019-8651489f5fc3",
   "metadata": {},
   "outputs": [
    {
     "ename": "AttributeError",
     "evalue": "type object 'Dataset' has no attribute 'transform'",
     "output_type": "error",
     "traceback": [
      "\u001b[0;31m---------------------------------------------------------------------------\u001b[0m",
      "\u001b[0;31mAttributeError\u001b[0m                            Traceback (most recent call last)",
      "Cell \u001b[0;32mIn[5], line 1\u001b[0m\n\u001b[0;32m----> 1\u001b[0m Dataset\u001b[38;5;241m.\u001b[39mtransform(torch\u001b[38;5;241m.\u001b[39mtensor([\u001b[38;5;241m1\u001b[39m,\u001b[38;5;241m2\u001b[39m,\u001b[38;5;241m3\u001b[39m]))\n",
      "\u001b[0;31mAttributeError\u001b[0m: type object 'Dataset' has no attribute 'transform'"
     ]
    }
   ],
   "source": [
    "Dataset.transform(torch.tensor([1,2,3]))"
   ]
  },
  {
   "cell_type": "code",
   "execution_count": 10,
   "id": "0b2d16ca-0339-4c3d-b8b1-aef720042ce8",
   "metadata": {},
   "outputs": [
    {
     "ename": "NameError",
     "evalue": "name 'util' is not defined",
     "output_type": "error",
     "traceback": [
      "\u001b[0;31m---------------------------------------------------------------------------\u001b[0m",
      "\u001b[0;31mNameError\u001b[0m                                 Traceback (most recent call last)",
      "Cell \u001b[0;32mIn[10], line 1\u001b[0m\n\u001b[0;32m----> 1\u001b[0m transform\u001b[38;5;241m=\u001b[39mpartial(util\u001b[38;5;241m.\u001b[39mmol_transform, vocab\u001b[38;5;241m=\u001b[39mvocab, n_bonds\u001b[38;5;241m=\u001b[39mn_bond_types, coord_std\u001b[38;5;241m=\u001b[39mcoord_std)\n",
      "\u001b[0;31mNameError\u001b[0m: name 'util' is not defined"
     ]
    }
   ],
   "source": [
    "transform=partial(util.mol_transform, vocab=vocab, n_bonds=n_bond_types, coord_std=coord_std)"
   ]
  },
  {
   "cell_type": "code",
   "execution_count": 12,
   "id": "4b8f5a8c-598e-4e69-8005-29cd870bf0b6",
   "metadata": {},
   "outputs": [
    {
     "ename": "ModuleNotFoundError",
     "evalue": "No module named 'semlaflow'",
     "output_type": "error",
     "traceback": [
      "\u001b[0;31m---------------------------------------------------------------------------\u001b[0m",
      "\u001b[0;31mModuleNotFoundError\u001b[0m                       Traceback (most recent call last)",
      "Cell \u001b[0;32mIn[12], line 2\u001b[0m\n\u001b[1;32m      1\u001b[0m \u001b[38;5;28;01mfrom\u001b[39;00m\u001b[38;5;250m \u001b[39m\u001b[38;5;21;01mfunctools\u001b[39;00m\u001b[38;5;250m \u001b[39m\u001b[38;5;28;01mimport\u001b[39;00m partial\n\u001b[0;32m----> 2\u001b[0m \u001b[38;5;28;01mimport\u001b[39;00m\u001b[38;5;250m \u001b[39m\u001b[38;5;21;01msemlaflow\u001b[39;00m\n\u001b[1;32m      3\u001b[0m \u001b[38;5;28;01mimport\u001b[39;00m\u001b[38;5;250m \u001b[39m\u001b[38;5;21;01msemlaflow\u001b[39;00m\u001b[38;5;21;01m.\u001b[39;00m\u001b[38;5;21;01mscriptutil\u001b[39;00m\u001b[38;5;250m \u001b[39m\u001b[38;5;28;01mas\u001b[39;00m\u001b[38;5;250m \u001b[39m\u001b[38;5;21;01mutil\u001b[39;00m\n",
      "\u001b[0;31mModuleNotFoundError\u001b[0m: No module named 'semlaflow'"
     ]
    }
   ],
   "source": [
    "from functools import partial\n",
    "import semlaflow\n",
    "import semlaflow.scriptutil as util"
   ]
  },
  {
   "cell_type": "code",
   "execution_count": null,
   "id": "b543f0e6-55b8-4cc4-910f-c5e0c8a288e9",
   "metadata": {},
   "outputs": [],
   "source": []
  }
 ],
 "metadata": {
  "kernelspec": {
   "display_name": "Equinv",
   "language": "python",
   "name": "equinv"
  },
  "language_info": {
   "codemirror_mode": {
    "name": "ipython",
    "version": 3
   },
   "file_extension": ".py",
   "mimetype": "text/x-python",
   "name": "python",
   "nbconvert_exporter": "python",
   "pygments_lexer": "ipython3",
   "version": "3.12.7"
  }
 },
 "nbformat": 4,
 "nbformat_minor": 5
}
